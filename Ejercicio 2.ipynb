{
 "cells": [
  {
   "cell_type": "markdown",
   "metadata": {},
   "source": [
    "# Exercise 2\n",
    "\n",
    "Top 10 arrival airports in the world in 2013 (using the bookings file).\n",
    "\n",
    "- Arrival airport is the column arr_port. It is the IATA code for the airport\n",
    "- To get the total number of passengers for an airport, you can sum the column\n",
    "pax, grouping by arr_port. Note that there is negative pax. That corresponds to\n",
    "cancelations. So to get the total number of passengers that have actually\n",
    "booked, you should sum including the negatives (that will remove the canceled\n",
    "bookings).\n",
    "- Print the top 10 arrival airports in the standard output, including the number of\n",
    "passengers."
   ]
  },
  {
   "cell_type": "code",
   "execution_count": 3,
   "metadata": {},
   "outputs": [
    {
     "name": "stderr",
     "output_type": "stream",
     "text": [
      "<ipython-input-3-1b6166329b53>:4: DeprecationWarning: The default dtype for empty Series will be 'object' instead of 'float64' in a future version. Specify a dtype explicitly to silence this warning.\n",
      "  series = pd.Series([])\n"
     ]
    }
   ],
   "source": [
    "import pandas as pd\n",
    "\n",
    "chunksize = 10000\n",
    "series = pd.Series([])\n",
    "for chunk in pd.read_csv(r'C:\\Users\\dvale\\Desktop\\bookings.csv', delimiter='^', chunksize=chunksize, usecols=['pax','arr_port']):\n",
    "    pax_sum = chunk.groupby('arr_port').pax.sum()\n",
    "    series = series.add(pax_sum, fill_value=0)"
   ]
  },
  {
   "cell_type": "code",
   "execution_count": 19,
   "metadata": {},
   "outputs": [
    {
     "data": {
      "text/plain": [
       "arr_port\n",
       "LHR         88809.0\n",
       "MCO         70930.0\n",
       "LAX         70530.0\n",
       "LAS         69630.0\n",
       "JFK         66270.0\n",
       "CDG         64490.0\n",
       "BKK         59460.0\n",
       "MIA         58150.0\n",
       "SFO         58000.0\n",
       "DXB         55590.0\n",
       "dtype: float64"
      ]
     },
     "execution_count": 19,
     "metadata": {},
     "output_type": "execute_result"
    }
   ],
   "source": [
    "top_10_series = series.sort_values(ascending=False).head(10)\n",
    "top_10_series"
   ]
  }
 ],
 "metadata": {
  "kernelspec": {
   "display_name": "Python 3",
   "language": "python",
   "name": "python3"
  },
  "language_info": {
   "codemirror_mode": {
    "name": "ipython",
    "version": 3
   },
   "file_extension": ".py",
   "mimetype": "text/x-python",
   "name": "python",
   "nbconvert_exporter": "python",
   "pygments_lexer": "ipython3",
   "version": "3.8.3"
  }
 },
 "nbformat": 4,
 "nbformat_minor": 4
}
