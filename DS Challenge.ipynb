{
 "cells": [
  {
   "cell_type": "code",
   "execution_count": 11,
   "metadata": {},
   "outputs": [
    {
     "name": "stderr",
     "output_type": "stream",
     "text": [
      "C:\\Users\\dvale\\anaconda3\\lib\\site-packages\\IPython\\core\\interactiveshell.py:3071: DtypeWarning: Columns (7,8,27) have mixed types.Specify dtype option on import or set low_memory=False.\n",
      "  has_raised = await self.run_ast_nodes(code_ast.body, cell_name,\n"
     ]
    }
   ],
   "source": [
    "import pandas as pd\n",
    "\n",
    "searches = pd.read_csv(r'C:\\Users\\dvale\\Desktop\\searches.csv', delimiter='^')\n",
    "bookings = pd.read_csv(r'C:\\Users\\dvale\\Desktop\\bookings.csv', delimiter='^')"
   ]
  },
  {
   "cell_type": "markdown",
   "metadata": {},
   "source": [
    "# Exercise 1\n",
    "\n",
    "Count the number of lines in Python for each file using Python."
   ]
  },
  {
   "cell_type": "code",
   "execution_count": 15,
   "metadata": {},
   "outputs": [
    {
     "name": "stdout",
     "output_type": "stream",
     "text": [
      "The search file has 20390198 rows and the bookings file has 10000010 rows\n"
     ]
    }
   ],
   "source": [
    "searches_num_rows = searches.shape[0]\n",
    "bookings_num_rows = bookings.shape[0]\n",
    "print('The search file has {} rows and the bookings file has {} rows'.format(searches_num_rows, bookings_num_rows))"
   ]
  },
  {
   "cell_type": "markdown",
   "metadata": {},
   "source": [
    "# Exercise 2\n",
    "\n",
    "Top 10 arrival airports in the world in 2013 (using the bookings file).\n",
    "\n",
    "- Arrival airport is the column arr_port. It is the IATA code for the airport\n",
    "- To get the total number of passengers for an airport, you can sum the column\n",
    "pax, grouping by arr_port. Note that there is negative pax. That corresponds to\n",
    "cancelations. So to get the total number of passengers that have actually\n",
    "booked, you should sum including the negatives (that will remove the canceled\n",
    "bookings).\n",
    "- Print the top 10 arrival airports in the standard output, including the number of\n",
    "passengers."
   ]
  },
  {
   "cell_type": "code",
   "execution_count": 16,
   "metadata": {},
   "outputs": [
    {
     "name": "stdout",
     "output_type": "stream",
     "text": [
      "<class 'pandas.core.frame.DataFrame'>\n",
      "RangeIndex: 10000010 entries, 0 to 10000009\n",
      "Data columns (total 38 columns):\n",
      " #   Column               Dtype  \n",
      "---  ------               -----  \n",
      " 0   act_date             object \n",
      " 1   source               object \n",
      " 2   pos_ctry             object \n",
      " 3   pos_iata             object \n",
      " 4   pos_oid              object \n",
      " 5   rloc                 object \n",
      " 6   cre_date             object \n",
      " 7   duration             object \n",
      " 8   distance             object \n",
      " 9   dep_port             object \n",
      " 10  dep_city             object \n",
      " 11  dep_ctry             object \n",
      " 12  arr_port             object \n",
      " 13  arr_city             object \n",
      " 14  arr_ctry             object \n",
      " 15  lst_port             object \n",
      " 16  lst_city             object \n",
      " 17  lst_ctry             object \n",
      " 18  brd_port             object \n",
      " 19  brd_city             object \n",
      " 20  brd_ctry             object \n",
      " 21  off_port             object \n",
      " 22  off_city             object \n",
      " 23  off_ctry             object \n",
      " 24  mkt_port             object \n",
      " 25  mkt_city             object \n",
      " 26  mkt_ctry             object \n",
      " 27  intl                 object \n",
      " 28  route                object \n",
      " 29  carrier              object \n",
      " 30  bkg_class            object \n",
      " 31  cab_class            object \n",
      " 32  brd_time             object \n",
      " 33  off_time             object \n",
      " 34  pax                  float64\n",
      " 35  year                 float64\n",
      " 36  month                float64\n",
      " 37  oid                  object \n",
      "dtypes: float64(3), object(35)\n",
      "memory usage: 2.8+ GB\n"
     ]
    }
   ],
   "source": [
    "bookings.info()"
   ]
  },
  {
   "cell_type": "code",
   "execution_count": 24,
   "metadata": {},
   "outputs": [
    {
     "data": {
      "text/plain": [
       "arr_port\n",
       "LHR         88809.0\n",
       "MCO         70930.0\n",
       "LAX         70530.0\n",
       "LAS         69630.0\n",
       "JFK         66270.0\n",
       "CDG         64490.0\n",
       "BKK         59460.0\n",
       "MIA         58150.0\n",
       "SFO         58000.0\n",
       "DXB         55590.0\n",
       "Name: pax, dtype: float64"
      ]
     },
     "execution_count": 24,
     "metadata": {},
     "output_type": "execute_result"
    }
   ],
   "source": [
    "print(The to`p)\n",
    "bookings.groupby('arr_port').pax.sum().sort_values(ascending=False).head(10)"
   ]
  },
  {
   "cell_type": "code",
   "execution_count": null,
   "metadata": {},
   "outputs": [],
   "source": []
  }
 ],
 "metadata": {
  "kernelspec": {
   "display_name": "Python 3",
   "language": "python",
   "name": "python3"
  },
  "language_info": {
   "codemirror_mode": {
    "name": "ipython",
    "version": 3
   },
   "file_extension": ".py",
   "mimetype": "text/x-python",
   "name": "python",
   "nbconvert_exporter": "python",
   "pygments_lexer": "ipython3",
   "version": "3.8.3"
  }
 },
 "nbformat": 4,
 "nbformat_minor": 4
}
