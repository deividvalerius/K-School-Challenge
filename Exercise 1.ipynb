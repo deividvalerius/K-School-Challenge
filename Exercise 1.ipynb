{
 "cells": [
  {
   "cell_type": "markdown",
   "metadata": {},
   "source": [
    "# Exercise 1\n",
    "\n",
    "Count the number of lines in Python for each file using Python."
   ]
  },
  {
   "cell_type": "markdown",
   "metadata": {},
   "source": [
    "### Comments\n",
    "\n",
    "- I use chunks in order to work on the files more efficiently. I set a counter to zero and add the total rows for each chunk until I get the total value."
   ]
  },
  {
   "cell_type": "code",
   "execution_count": 2,
   "metadata": {},
   "outputs": [
    {
     "name": "stdout",
     "output_type": "stream",
     "text": [
      "The bookings file has 10000010 rows and the searches file has 20390198 rows\n"
     ]
    }
   ],
   "source": [
    "import pandas as pd\n",
    "\n",
    "chunksize = 10000\n",
    "counter_b = 0\n",
    "counter_s = 0\n",
    "for chunk in pd.read_csv(r'C:\\Users\\dvale\\Desktop\\bookings.csv', delimiter='^', chunksize=chunksize):\n",
    "    counter_b += chunk.shape[0]\n",
    "for chunk in pd.read_csv(r'C:\\Users\\dvale\\Desktop\\searches.csv', delimiter='^', chunksize=chunksize):\n",
    "    counter_s += chunk.shape[0]\n",
    "print('The bookings file has {} rows and the searches file has {} rows'.format(counter_b, counter_s))"
   ]
  }
 ],
 "metadata": {
  "kernelspec": {
   "display_name": "Python 3",
   "language": "python",
   "name": "python3"
  },
  "language_info": {
   "codemirror_mode": {
    "name": "ipython",
    "version": 3
   },
   "file_extension": ".py",
   "mimetype": "text/x-python",
   "name": "python",
   "nbconvert_exporter": "python",
   "pygments_lexer": "ipython3",
   "version": "3.8.3"
  }
 },
 "nbformat": 4,
 "nbformat_minor": 4
}
